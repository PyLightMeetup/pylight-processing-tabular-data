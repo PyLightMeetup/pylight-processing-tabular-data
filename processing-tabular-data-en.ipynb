{
 "cells": [
  {
   "cell_type": "markdown",
   "metadata": {
    "collapsed": true,
    "slideshow": {
     "slide_type": "slide"
    }
   },
   "source": [
    "# Hello Tables!\n",
    "### Processing tabular data with Python, practical introduction\n",
    "\n",
    "By: ![](https://avatars1.githubusercontent.com/u/588857?v=3&s=120)\n",
    "- [Wojtek Bederski](https://wuub.net/)  \n",
    "- twitter: [@wuub](https://twitter.com/wuub) \n",
    "- github: [wuub](https://github.com/wuub) \n"
   ]
  },
  {
   "cell_type": "code",
   "execution_count": null,
   "metadata": {
    "collapsed": true
   },
   "outputs": [],
   "source": []
  },
  {
   "cell_type": "markdown",
   "metadata": {
    "slideshow": {
     "slide_type": "slide"
    }
   },
   "source": [
    "# Outline\n",
    "\n",
    "1. How this talk will be given? (ground rules)\n",
    "2. What is tabular data?\n",
    "3. Working with data using stdlib.\n",
    "  1. How to read csv/tsv files\n",
    " ?\n",
    "  2. What can you do with it?\n",
    "  3. How to write my own CSV?\n",
    "4. Going outside of stdlib\n",
    "  1. Reading other common formats \n",
    "  2. Using convinience libraries.\n",
    "5. Bonus\n",
    "\n"
   ]
  },
  {
   "cell_type": "markdown",
   "metadata": {
    "slideshow": {
     "slide_type": "slide"
    }
   },
   "source": [
    "# How this talk will be given? \n",
    "\n",
    "1. We will talk about technical details of dealing with common tabular data formats. To see how easy it is to get started :) \n",
    "2. Take a quick look at Python's Standard library `csv` module (for the times when you wan to stay in stdlib)\n",
    "2. We will look at some external libraries that lets us deal with the same files in a bit more pleasant way.\n",
    "2. We will move very quickly (15minutes limit :)), but you don't have to remember everything, you can go trough this examples later. \n",
    "2. We will hold questions **after** the talk. Use sli.do or write your question down.\n",
    "2. If you know what a spreasheet is, but didn't read one in Python yet, this talk is for **you** :)\n"
   ]
  },
  {
   "cell_type": "markdown",
   "metadata": {
    "slideshow": {
     "slide_type": "slide"
    }
   },
   "source": [
    "# What is tabular data?\n",
    "\n",
    "A rectangular table.\n",
    "List of rows with common attributes.\n",
    "\n",
    "|Kierunek|Typ |Data startu        |Data konca         |Czas trwania   |Do/Od      |Cena|\n",
    "|--------|----|-------------------|-------------------|---------------|-----------|----|\n",
    "|-|data|2017-05-31 20:32:55|-|450125834|-|0.0|\n",
    "|outgoing|call|2017-05-31 19:16:05|2017-05-31 19:17:22|77             |48666666666|0.0 |\n",
    "|incoming|call|2017-05-31 19:14:11|2017-05-31 19:14:11|-              |połączenie przychodzące|0.0|\n",
    "|incoming|call|2017-05-31 15:14:52|2017-05-31 15:15:07|15             |połączenie przychodzące|0.0|"
   ]
  },
  {
   "cell_type": "markdown",
   "metadata": {
    "slideshow": {
     "slide_type": "slide"
    }
   },
   "source": [
    "\n",
    "\n",
    "## Where are we using it?\n",
    "\n",
    "And it's everywhere:\n",
    "\n",
    "- spreadsheets (obviously)\n",
    "- database tables (yes, rows and columns)\n",
    "- html tables (not always strictly conforming to our definition)\n",
    "- structured logs (file with lots of rows of JSON)\n",
    "- sensor readouts \n",
    "- billing statements\n",
    "\n"
   ]
  },
  {
   "cell_type": "markdown",
   "metadata": {
    "slideshow": {
     "slide_type": "slide"
    }
   },
   "source": [
    "## Not so obvious things can be represented as tabular data.\n",
    "\n",
    "- periodic table of elements (eg. https://github.com/andrejewski/periodic-table/blob/master/data.csv)\n",
    "- pictures/bitmaps\n",
    "- exports and backups of commonly used tools\n",
    "- maps data (POI) (np. http://ump.waw.pl/)\n",
    "- input data for bulk operations (creating user accounts, bulk orders) (eg. https://support.google.com/a/answer/40057?hl=en)\n",
    "\n",
    "## Also machine learning/data science\n",
    "\n",
    "- pretty much built on tabular data\n",
    "- but a whole different topic, that would need several presentations (we will not talk about this, just know it exists)"
   ]
  },
  {
   "cell_type": "markdown",
   "metadata": {
    "slideshow": {
     "slide_type": "slide"
    }
   },
   "source": [
    "# Dictionary\n",
    "\n",
    "Probably pretty obvious :) \n",
    "\n",
    "| column 1, header | column 2, header | column 3, header |\n",
    "|------------------|------------------|------------------|\n",
    "| row 1, cell 1    | row 1, cell 2    | row 1, cell 3    |\n",
    "| row 2, cell 1    | row 2, cell 2    | row 2, cell 3    |\n",
    "| row 3, cell 1    | row 3, cell 2    | row 3, cell 3    |\n"
   ]
  },
  {
   "cell_type": "markdown",
   "metadata": {
    "slideshow": {
     "slide_type": "slide"
    }
   },
   "source": [
    "# How to read csv/tsv files data?"
   ]
  },
  {
   "cell_type": "code",
   "execution_count": 1,
   "metadata": {
    "slideshow": {
     "slide_type": "slide"
    }
   },
   "outputs": [
    {
     "name": "stdout",
     "output_type": "stream",
     "text": [
      "ID\tNM\tLAT\tLON\tCOUNTRYCODE\n",
      "819827\tRAZVILKA\t55.591667\t37.740833\tRU\n",
      "524901\tMOSCOW\t55.752220\t37.615555\tRU\n",
      "1271881\tFIROZPUR JHIRKA\t27.799999\t76.949997\tIN\n",
      "1283240\tKATHMANDU\t27.716667\t85.316666\tNP\n",
      "703448\tKIEV\t50.433334\t30.516666\tUA\n",
      "1282898\tPOKHARA\t28.233334\t83.98\n"
     ]
    }
   ],
   "source": [
    "# How does a Tab Separated File / Comma Separated File look like?\n",
    "with open('data/city_list.txt', encoding='windows-1252') as f:\n",
    "    print(f.read(256).upper())"
   ]
  },
  {
   "cell_type": "code",
   "execution_count": 2,
   "metadata": {
    "slideshow": {
     "slide_type": "slide"
    }
   },
   "outputs": [
    {
     "name": "stdout",
     "output_type": "stream",
     "text": [
      "['819827', 'Razvilka', '55.591667', '37.740833', 'RU']\n"
     ]
    }
   ],
   "source": [
    "### DON'T DO THIS, IT WILL WORK SOMETIMES, AND \n",
    "### EVENTUALLY BLOW UP ON REAL WORLD DOCUMENTS\n",
    "\n",
    "with open('data/city_list.txt', encoding='windows-1252') as f:\n",
    "    f.readline()  # skip header\n",
    "    print(f.readline().strip().split('\\t'))  # BAD, DON'T DO THIS!\n"
   ]
  },
  {
   "cell_type": "markdown",
   "metadata": {
    "slideshow": {
     "slide_type": "slide"
    }
   },
   "source": [
    "## Why?\n",
    "\n",
    "It will hurt you if any of the cells uses separator in its content:\n",
    "\n",
    "`819827,Razvilka,55.591667,37.740833,RU\\n`\n",
    "\n",
    "can also look like this\n",
    "\n",
    "`4140963,\"Washington, D. C.\",38.895111,-77.036369,US`\n",
    "\n",
    "Where the second comma is **quoted**, this means it's a part of second column, and **NOT** a separator.\n",
    "\n",
    "**Don't** try to handle it yourself. **Use** Python's standard library or one of the **3rd party** libraries."
   ]
  },
  {
   "cell_type": "markdown",
   "metadata": {
    "slideshow": {
     "slide_type": "slide"
    }
   },
   "source": [
    "# How to read CSV/TSV file correctly?"
   ]
  },
  {
   "cell_type": "code",
   "execution_count": 3,
   "metadata": {
    "slideshow": {
     "slide_type": "slide"
    }
   },
   "outputs": [
    {
     "data": {
      "text/plain": [
       "OrderedDict([('id', 2516372),\n",
       "             ('nm', 'Xeraco,Jaraco'),\n",
       "             ('lat', 39.033329),\n",
       "             ('lon', -0.21667),\n",
       "             ('countryCode', 'ES')])"
      ]
     },
     "execution_count": 3,
     "metadata": {},
     "output_type": "execute_result"
    }
   ],
   "source": [
    "import csv\n",
    "\n",
    "stations = []\n",
    "with open('data/city_list.txt', encoding=\"windows-1252\") as f:\n",
    "    dialect = csv.Sniffer().sniff(f.read(1024))  # automatically detect a dialect\n",
    "    f.seek(0)  # reset file to the begginig\n",
    "    reader = csv.DictReader(f, dialect=dialect)\n",
    "    for station in reader:\n",
    "        # we need to do type conversion by hand,\n",
    "        # all fields are read as strings \n",
    "        station['id'] = int(station['id'])\n",
    "        station['lat'] = float(station['lat'])\n",
    "        station['lon'] = float(station['lon'])\n",
    "        stations.append(station)\n",
    "\n",
    "stations[12417]"
   ]
  },
  {
   "cell_type": "markdown",
   "metadata": {
    "slideshow": {
     "slide_type": "slide"
    }
   },
   "source": [
    "### Notes:\n",
    "\n",
    "Our city_list.txt file is rellatively small for a modern computer (3MB), so we can read all the rows at once\n",
    "and convert them into a list. \n",
    "\n",
    "If you're working with larger files (tens of megabytes or more) think if you can process rows one at a time, and not store them in memory. \n",
    "\n",
    "```python\n",
    "top_price = -1\n",
    "for row in reader:\n",
    "    # do something with your row here, and continue\n",
    "    print(row['id'])\n",
    "    top_price = max(top_price, row['price'])\n",
    "    ...\n",
    "print(top_price)\n",
    "```"
   ]
  },
  {
   "cell_type": "markdown",
   "metadata": {
    "slideshow": {
     "slide_type": "slide"
    }
   },
   "source": [
    "# Once you load it, what can we do with the data?"
   ]
  },
  {
   "cell_type": "code",
   "execution_count": 4,
   "metadata": {
    "slideshow": {
     "slide_type": "slide"
    }
   },
   "outputs": [
    {
     "data": {
      "text/plain": [
       "244"
      ]
     },
     "execution_count": 4,
     "metadata": {},
     "output_type": "execute_result"
    }
   ],
   "source": [
    "# Find all the countries. Naive way.\n",
    "\n",
    "countries1 = set()\n",
    "for s in stations:\n",
    "    countries1.add(s['countryCode'])\n",
    "\n",
    "len(countries1)"
   ]
  },
  {
   "cell_type": "code",
   "execution_count": 5,
   "metadata": {
    "slideshow": {
     "slide_type": "fragment"
    }
   },
   "outputs": [
    {
     "data": {
      "text/plain": [
       "244"
      ]
     },
     "execution_count": 5,
     "metadata": {},
     "output_type": "execute_result"
    }
   ],
   "source": [
    "# More Pythonic\n",
    "\n",
    "countries2 = {s['countryCode'] for s in stations}  # set comprehension\n",
    "len(countries2)"
   ]
  },
  {
   "cell_type": "code",
   "execution_count": 6,
   "metadata": {
    "slideshow": {
     "slide_type": "slide"
    }
   },
   "outputs": [
    {
     "data": {
      "text/plain": [
       "OrderedDict([('id', 756135),\n",
       "             ('nm', 'Warsaw'),\n",
       "             ('lat', 52.229771),\n",
       "             ('lon', 21.01178),\n",
       "             ('countryCode', 'PL')])"
      ]
     },
     "execution_count": 6,
     "metadata": {},
     "output_type": "execute_result"
    }
   ],
   "source": [
    "# Find station called Warsaw in Poland\n",
    "\n",
    "next(s for s in stations if s['nm'] == \"Warsaw\" and s['countryCode'] == 'PL')"
   ]
  },
  {
   "cell_type": "code",
   "execution_count": 7,
   "metadata": {
    "slideshow": {
     "slide_type": "slide"
    }
   },
   "outputs": [
    {
     "data": {
      "text/plain": [
       "[OrderedDict([('id', 3833367),\n",
       "              ('nm', 'Ushuaia'),\n",
       "              ('lat', -54.799999),\n",
       "              ('lon', -68.300003),\n",
       "              ('countryCode', 'AR')]),\n",
       " OrderedDict([('id', 3426466),\n",
       "              ('nm', 'Grytviken'),\n",
       "              ('lat', -54.281109),\n",
       "              ('lon', -36.509201),\n",
       "              ('countryCode', 'GS')]),\n",
       " OrderedDict([('id', 3874787),\n",
       "              ('nm', 'Punta Arenas'),\n",
       "              ('lat', -53.150002),\n",
       "              ('lon', -70.916672),\n",
       "              ('countryCode', 'CL')]),\n",
       " OrderedDict([('id', 3874958),\n",
       "              ('nm', 'Puerto Natales'),\n",
       "              ('lat', -51.723629),\n",
       "              ('lon', -72.48745),\n",
       "              ('countryCode', 'CL')]),\n",
       " OrderedDict([('id', 3426691),\n",
       "              ('nm', 'Stanley'),\n",
       "              ('lat', -51.700001),\n",
       "              ('lon', -57.849998),\n",
       "              ('countryCode', 'FK')])]"
      ]
     },
     "execution_count": 7,
     "metadata": {},
     "output_type": "execute_result"
    }
   ],
   "source": [
    "# sort stations by lat, then lon\n",
    "import operator\n",
    "sorted(stations, key=operator.itemgetter('lat', 'lon'))[:5]  "
   ]
  },
  {
   "cell_type": "code",
   "execution_count": 8,
   "metadata": {
    "slideshow": {
     "slide_type": "slide"
    }
   },
   "outputs": [
    {
     "data": {
      "text/plain": [
       "[('US', 11731),\n",
       " ('DE', 5024),\n",
       " ('FR', 4822),\n",
       " ('IT', 4573),\n",
       " ('PH', 4150),\n",
       " ('RU', 3893),\n",
       " ('IN', 3337),\n",
       " ('RO', 2385),\n",
       " ('GB', 2277),\n",
       " ('ES', 2037)]"
      ]
     },
     "execution_count": 8,
     "metadata": {},
     "output_type": "execute_result"
    }
   ],
   "source": [
    "# Count the number of stations per country, by hand, and get 10 most common\n",
    "\n",
    "pc1 = dict()\n",
    "for s in stations:\n",
    "    country = s['countryCode']\n",
    "    pc1[country] = pc1.get(country, 0) + 1 \n",
    "\n",
    "sorted_by_count_desc = sorted(pc1.items(), key=operator.itemgetter(1), reverse=True)\n",
    "sorted_by_count_desc[:10]\n"
   ]
  },
  {
   "cell_type": "code",
   "execution_count": 9,
   "metadata": {
    "slideshow": {
     "slide_type": "slide"
    }
   },
   "outputs": [
    {
     "data": {
      "text/plain": [
       "[('US', 11731),\n",
       " ('DE', 5024),\n",
       " ('FR', 4822),\n",
       " ('IT', 4573),\n",
       " ('PH', 4150),\n",
       " ('RU', 3893),\n",
       " ('IN', 3337),\n",
       " ('RO', 2385),\n",
       " ('GB', 2277),\n",
       " ('ES', 2037)]"
      ]
     },
     "execution_count": 9,
     "metadata": {},
     "output_type": "execute_result"
    }
   ],
   "source": [
    "# Using standard library Counter\n",
    "# https://docs.python.org/3/library/collections.html#collections.Counter\n",
    "from collections import Counter  \n",
    "per_country_counter = Counter(s['countryCode'] for s in stations)\n",
    "\n",
    "per_country_counter.most_common(10)"
   ]
  },
  {
   "cell_type": "code",
   "execution_count": 10,
   "metadata": {
    "slideshow": {
     "slide_type": "slide"
    }
   },
   "outputs": [
    {
     "data": {
      "text/plain": [
       "{'mean': 303.5696721311475, 'median': 38.0, 'variance': 1083365.9251669704}"
      ]
     },
     "execution_count": 10,
     "metadata": {},
     "output_type": "execute_result"
    }
   ],
   "source": [
    "import statistics  # https://docs.python.org/3/library/statistics.html\n",
    "\n",
    "values = per_country_counter.values()\n",
    "{\n",
    "    \"mean\": statistics.mean(values),\n",
    "    \"median\": statistics.median(values),\n",
    "    \"variance\": statistics.variance(values),\n",
    "}\n"
   ]
  },
  {
   "cell_type": "code",
   "execution_count": 11,
   "metadata": {
    "slideshow": {
     "slide_type": "slide"
    }
   },
   "outputs": [
    {
     "data": {
      "image/png": "[encoded data removed]",
      "text/plain": [
       "<matplotlib.figure.Figure at 0x7f3ca26c2b70>"
      ]
     },
     "metadata": {},
     "output_type": "display_data"
    }
   ],
   "source": [
    "# Matplotlib will be discussed in some future presentation :)\n",
    "# draw a histogram\n",
    "\n",
    "%matplotlib inline\n",
    "import matplotlib.pyplot as plt\n",
    "\n",
    "plt.hist(list(per_country_counter.values()), 60)\n",
    "plt.xlabel(\"number of stations\")\n",
    "plt.ylabel(\"number of countries\")\n",
    "plt.grid()"
   ]
  },
  {
   "cell_type": "markdown",
   "metadata": {
    "slideshow": {
     "slide_type": "slide"
    }
   },
   "source": [
    "# Write a simple CSV\n",
    "\n",
    "Not a problem, use `csv` package again."
   ]
  },
  {
   "cell_type": "code",
   "execution_count": 12,
   "metadata": {
    "slideshow": {
     "slide_type": "slide"
    }
   },
   "outputs": [
    {
     "name": "stdout",
     "output_type": "stream",
     "text": [
      "first_name,last_name,age,address\r\n",
      "Wojtek,Bederski,33,\"Hoża 51, 00-681 Warsaw, Poland\"\r\n",
      "Asia,Tustanowska,18,\"Pl. Europejski 1, Warsaw, Poland\"\r\n",
      "\n"
     ]
    }
   ],
   "source": [
    "import io\n",
    "import csv\n",
    "\n",
    "buf = io.StringIO()  # you can also open a file\n",
    "\n",
    "writer = csv.DictWriter(f=buf, dialect=csv.excel, fieldnames=['first_name', 'last_name', 'age', 'address'])\n",
    "writer.writeheader()\n",
    "\n",
    "writer.writerow({'first_name': \"Wojtek\", 'last_name': \"Bederski\", 'age': 33, 'address': \"Hoża 51, 00-681 Warsaw, Poland\"})\n",
    "writer.writerow({'first_name': \"Asia\", 'last_name': \"Tustanowska\", 'age': 18, 'address': \"Pl. Europejski 1, Warsaw, Poland\"})\n",
    "buf.flush()\n",
    "\n",
    "buf.seek(0)\n",
    "print(buf.read())\n",
    "\n",
    "# Note the automatic quoting, you don't have to worry about it"
   ]
  },
  {
   "cell_type": "markdown",
   "metadata": {
    "slideshow": {
     "slide_type": "slide"
    }
   },
   "source": [
    "# Pretty straightforward, right?"
   ]
  },
  {
   "cell_type": "markdown",
   "metadata": {
    "slideshow": {
     "slide_type": "slide"
    }
   },
   "source": [
    "# Access other formats using 3rd party libraries\n",
    "\n",
    "## Pick the one you like, both are good\n",
    "\n",
    "```shell\n",
    "(virtualenv) $ pip install tablib, rows\n",
    "\n",
    "```\n",
    "\n",
    " * http://turicas.info/rows/  (very pleasant to use, stronger than stdlib)\n",
    " * http://docs.python-tablib.org (a bit less magic, but somewhat harder to use)\n",
    " \n",
    "\n"
   ]
  },
  {
   "cell_type": "code",
   "execution_count": 13,
   "metadata": {
    "slideshow": {
     "slide_type": "slide"
    }
   },
   "outputs": [
    {
     "data": {
      "text/plain": [
       "['id', 'nm', 'lat', 'lon', 'countryCode']"
      ]
     },
     "metadata": {},
     "output_type": "display_data"
    },
    {
     "data": {
      "text/plain": [
       "(529368, 'Marfino', 55.702778, 37.382221, 'RU')"
      ]
     },
     "metadata": {},
     "output_type": "display_data"
    }
   ],
   "source": [
    "import tablib\n",
    "sample_dataset = tablib.Dataset()\n",
    "sample_dataset.load(open('./data/city_list_sample.xlsx', 'rb').read(), format='xlsx')\n",
    "\n",
    "display(sample_dataset.headers)\n",
    "display(sample_dataset[10])  # this is a tuple, you need to remember column index (but types converted automatically)"
   ]
  },
  {
   "cell_type": "code",
   "execution_count": 14,
   "metadata": {
    "slideshow": {
     "slide_type": "slide"
    }
   },
   "outputs": [
    {
     "data": {
      "text/plain": [
       "[('RU', 1625),\n",
       " ('AU', 226),\n",
       " ('US', 214),\n",
       " ('IT', 157),\n",
       " ('GB', 133),\n",
       " ('ES', 120),\n",
       " ('DE', 120),\n",
       " ('CA', 87),\n",
       " ('IN', 83),\n",
       " ('UA', 83)]"
      ]
     },
     "execution_count": 14,
     "metadata": {},
     "output_type": "execute_result"
    }
   ],
   "source": [
    "from collections import Counter\n",
    "tablib_countries = Counter(sample_dataset.get_col(4))\n",
    "\n",
    "# this is from different document (sample) so it will not be the same\n",
    "tablib_countries.most_common(10)"
   ]
  },
  {
   "cell_type": "code",
   "execution_count": 15,
   "metadata": {
    "slideshow": {
     "slide_type": "slide"
    }
   },
   "outputs": [
    {
     "name": "stdout",
     "output_type": "stream",
     "text": [
      "<table>\n",
      "<thead>\n",
      "<tr><th>id</th>\n",
      "<th>nm</th>\n",
      "<th>lat</th>\n",
      "<th>lon</th>\n",
      "<th>countryCode</th></tr>\n",
      "</thead>\n",
      "<tr><td>819827</td>\n",
      "<td>Razvilka</td>\n",
      "<td>55.591667</td>\n",
      "<td>37.740833</td>\n",
      "<td>RU</td></tr>\n",
      "<tr><td>524901</td>\n",
      "<td>Moscow</td>\n",
      "<td>55 ... \n"
     ]
    }
   ],
   "source": [
    "# You can easily create a HTML table\n",
    "print(sample_dataset.html[:240] + \" ... \")"
   ]
  },
  {
   "cell_type": "markdown",
   "metadata": {
    "slideshow": {
     "slide_type": "slide"
    }
   },
   "source": [
    "# ... or export to a number of other different formats\n",
    "\n",
    "```python\n",
    "with open(\"sample.xls\", 'wb') as f:\n",
    "    f.write(sample_dataset.xls)\n",
    "    # or sample_dataset.xlsx  Microsoft Office (new)\n",
    "    # or sample_dataset.csv  \n",
    "    # or sample_dataset.tsv\n",
    "    # or sample_dataset.yaml\n",
    "    # or sample_dataset.ods  Open Office\n",
    "    # or sample_dataset.latex\n",
    "    # or sample_dataset.json\n",
    "    # or sample_dataset.html  \n",
    "```"
   ]
  },
  {
   "cell_type": "markdown",
   "metadata": {
    "slideshow": {
     "slide_type": "slide"
    }
   },
   "source": [
    "# rows\n",
    "\n",
    "It's so niiice :) "
   ]
  },
  {
   "cell_type": "code",
   "execution_count": 16,
   "metadata": {
    "slideshow": {
     "slide_type": "slide"
    }
   },
   "outputs": [
    {
     "data": {
      "text/plain": [
       "<rows.Table (from xlsx) 5 fields, 3568 rows>"
      ]
     },
     "execution_count": 16,
     "metadata": {},
     "output_type": "execute_result"
    }
   ],
   "source": [
    "# rows\n",
    "\n",
    "import rows\n",
    "rows_table = rows.import_from_xlsx('./data/city_list_sample.xlsx')\n",
    "rows_table"
   ]
  },
  {
   "cell_type": "code",
   "execution_count": 17,
   "metadata": {
    "slideshow": {
     "slide_type": "slide"
    }
   },
   "outputs": [
    {
     "data": {
      "text/plain": [
       "['id', 'nm', 'lat', 'lon', 'countrycode']"
      ]
     },
     "metadata": {},
     "output_type": "display_data"
    },
    {
     "data": {
      "text/plain": [
       "[rows.fields.IntegerField,\n",
       " rows.fields.TextField,\n",
       " rows.fields.FloatField,\n",
       " rows.fields.FloatField,\n",
       " rows.fields.TextField]"
      ]
     },
     "metadata": {},
     "output_type": "display_data"
    },
    {
     "data": {
      "text/plain": [
       "Row(id=529368, nm='Marfino', lat=55.702778, lon=37.382221, countrycode='RU')"
      ]
     },
     "metadata": {},
     "output_type": "display_data"
    },
    {
     "data": {
      "text/plain": [
       "'RU'"
      ]
     },
     "metadata": {},
     "output_type": "display_data"
    }
   ],
   "source": [
    "display(rows_table.field_names)\n",
    "display(rows_table.field_types) # automatic type detection. :yay:\n",
    "display(rows_table[10])\n",
    "display(rows_table[10].countrycode)  # note the lowercase\n"
   ]
  },
  {
   "cell_type": "code",
   "execution_count": 18,
   "metadata": {
    "slideshow": {
     "slide_type": "slide"
    }
   },
   "outputs": [
    {
     "data": {
      "text/plain": [
       "[('RU', 1625),\n",
       " ('AU', 226),\n",
       " ('US', 214),\n",
       " ('IT', 157),\n",
       " ('GB', 133),\n",
       " ('ES', 120),\n",
       " ('DE', 120),\n",
       " ('CA', 87),\n",
       " ('IN', 83),\n",
       " ('UA', 83)]"
      ]
     },
     "execution_count": 18,
     "metadata": {},
     "output_type": "execute_result"
    }
   ],
   "source": [
    "# most common is easiest using rows\n",
    "Counter(rows_table['countrycode']).most_common(10)"
   ]
  },
  {
   "cell_type": "markdown",
   "metadata": {
    "slideshow": {
     "slide_type": "slide"
    }
   },
   "source": [
    "# rows can export data as well\n",
    "\n",
    "```python\n",
    "rows.export_to_csv(rows_table)\n",
    "rows.export_to_dicts(rows_table)\n",
    "rows.export_to_json(rows_table)\n",
    "rows.export_to_sqlite(rows_table)\n",
    "rows.export_to_txt(rows_table)\n",
    "rows.export_to_xls(rows_table)\n",
    "rows.export_to_xlsx(rows_table)\n",
    "```"
   ]
  },
  {
   "cell_type": "markdown",
   "metadata": {
    "slideshow": {
     "slide_type": "slide"
    }
   },
   "source": [
    "# Bonus"
   ]
  },
  {
   "cell_type": "markdown",
   "metadata": {
    "slideshow": {
     "slide_type": "slide"
    }
   },
   "source": [
    "# goodtables - lib you should know about\n",
    "\n",
    "CSV can be easily broken during conversion, or export.  With tousands of lines it's easy to miss a malformed file.\n",
    "\n",
    "```shell\n",
    "$ pip install goodtables --pre\n",
    "```\n"
   ]
  },
  {
   "cell_type": "code",
   "execution_count": 19,
   "metadata": {
    "slideshow": {
     "slide_type": "slide"
    }
   },
   "outputs": [
    {
     "data": {
      "text/plain": [
       "{'error-count': 4,\n",
       " 'table-count': 1,\n",
       " 'tables': [{'error-count': 4,\n",
       "   'errors': [{'code': 'blank-header',\n",
       "     'column-number': 4,\n",
       "     'message': 'Header in column 4 is blank',\n",
       "     'row': None,\n",
       "     'row-number': None},\n",
       "    {'code': 'extra-value',\n",
       "     'column-number': 6,\n",
       "     'message': 'Row 2 has an extra value in column 6',\n",
       "     'row': ['819827', 'Razvilka', '55.591667', '', '37.740833', 'RU'],\n",
       "     'row-number': 2},\n",
       "    {'code': 'missing-value',\n",
       "     'column-number': 4,\n",
       "     'message': 'Row 5 has a missing value in column 4',\n",
       "     'row': ['27.716667', '85.316666', 'NP'],\n",
       "     'row-number': 5},\n",
       "    {'code': 'missing-value',\n",
       "     'column-number': 5,\n",
       "     'message': 'Row 5 has a missing value in column 5',\n",
       "     'row': ['27.716667', '85.316666', 'NP'],\n",
       "     'row-number': 5}],\n",
       "   'headers': ['id', 'nm', 'lat', '', 'countryCode'],\n",
       "   'row-count': 8,\n",
       "   'source': 'data/city_list_broken.csv',\n",
       "   'time': 0.005,\n",
       "   'valid': False}],\n",
       " 'time': 0.007,\n",
       " 'valid': False,\n",
       " 'warnings': []}"
      ]
     },
     "execution_count": 19,
     "metadata": {},
     "output_type": "execute_result"
    }
   ],
   "source": [
    "from goodtables import Inspector\n",
    "\n",
    "inspector = Inspector()\n",
    "inspector.inspect('data/city_list_broken.csv')"
   ]
  },
  {
   "cell_type": "markdown",
   "metadata": {
    "slideshow": {
     "slide_type": "slide"
    }
   },
   "source": [
    "# Further reading & specific use-cases\n",
    "\n",
    "Depending on which area you're working in, you'll probably need to learn other tools and platform specific ways of dealing with data.\n",
    "\n",
    "Just remember: \n",
    "\n",
    "## Don't be afraid :) \n",
    "\n",
    "If you managed to work with csv's, you'll be able to comprehend things pretty quickly.\n",
    "\n",
    "Don't try to go alone. Ask someone on your team. Ask someone in PyLight community (coming soon). If everything else fail try https://awesome-python.com \n",
    "\n"
   ]
  },
  {
   "cell_type": "markdown",
   "metadata": {
    "slideshow": {
     "slide_type": "slide"
    }
   },
   "source": [
    "# The End.  Questions?"
   ]
  }
 ],
 "metadata": {
  "celltoolbar": "Slideshow",
  "kernelspec": {
   "display_name": "Python 3",
   "language": "python",
   "name": "python3"
  },
  "language_info": {
   "codemirror_mode": {
    "name": "ipython",
    "version": 3
   },
   "file_extension": ".py",
   "mimetype": "text/x-python",
   "name": "python",
   "nbconvert_exporter": "python",
   "pygments_lexer": "ipython3",
   "version": "3.6.1"
  }
 },
 "nbformat": 4,
 "nbformat_minor": 2
}
